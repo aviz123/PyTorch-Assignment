{
  "nbformat": 4,
  "nbformat_minor": 0,
  "metadata": {
    "colab": {
      "name": "Session_3.ipynb",
      "provenance": [],
      "collapsed_sections": [],
      "authorship_tag": "ABX9TyOdn0rs9VEW2Qs1x5cqT4Y/",
      "include_colab_link": true
    },
    "kernelspec": {
      "name": "python3",
      "display_name": "Python 3"
    },
    "language_info": {
      "name": "python"
    },
    "widgets": {
      "application/vnd.jupyter.widget-state+json": {
        "a1a78ca982e14995bd2766eb7016764b": {
          "model_module": "@jupyter-widgets/controls",
          "model_name": "HBoxModel",
          "state": {
            "_view_name": "HBoxView",
            "_dom_classes": [],
            "_model_name": "HBoxModel",
            "_view_module": "@jupyter-widgets/controls",
            "_model_module_version": "1.5.0",
            "_view_count": null,
            "_view_module_version": "1.5.0",
            "box_style": "",
            "layout": "IPY_MODEL_893ef69fe24345dbb26f6865025a9a2a",
            "_model_module": "@jupyter-widgets/controls",
            "children": [
              "IPY_MODEL_9e3c94a267de4f3a9535059c78034557",
              "IPY_MODEL_9ae21089658f400a835ef42d7ec777e3"
            ]
          }
        },
        "893ef69fe24345dbb26f6865025a9a2a": {
          "model_module": "@jupyter-widgets/base",
          "model_name": "LayoutModel",
          "state": {
            "_view_name": "LayoutView",
            "grid_template_rows": null,
            "right": null,
            "justify_content": null,
            "_view_module": "@jupyter-widgets/base",
            "overflow": null,
            "_model_module_version": "1.2.0",
            "_view_count": null,
            "flex_flow": null,
            "width": null,
            "min_width": null,
            "border": null,
            "align_items": null,
            "bottom": null,
            "_model_module": "@jupyter-widgets/base",
            "top": null,
            "grid_column": null,
            "overflow_y": null,
            "overflow_x": null,
            "grid_auto_flow": null,
            "grid_area": null,
            "grid_template_columns": null,
            "flex": null,
            "_model_name": "LayoutModel",
            "justify_items": null,
            "grid_row": null,
            "max_height": null,
            "align_content": null,
            "visibility": null,
            "align_self": null,
            "height": null,
            "min_height": null,
            "padding": null,
            "grid_auto_rows": null,
            "grid_gap": null,
            "max_width": null,
            "order": null,
            "_view_module_version": "1.2.0",
            "grid_template_areas": null,
            "object_position": null,
            "object_fit": null,
            "grid_auto_columns": null,
            "margin": null,
            "display": null,
            "left": null
          }
        },
        "9e3c94a267de4f3a9535059c78034557": {
          "model_module": "@jupyter-widgets/controls",
          "model_name": "FloatProgressModel",
          "state": {
            "_view_name": "ProgressView",
            "style": "IPY_MODEL_7cf4e6a8cbd34625985c1f1ce631cd82",
            "_dom_classes": [],
            "description": "",
            "_model_name": "FloatProgressModel",
            "bar_style": "success",
            "max": 9912422,
            "_view_module": "@jupyter-widgets/controls",
            "_model_module_version": "1.5.0",
            "value": 9912422,
            "_view_count": null,
            "_view_module_version": "1.5.0",
            "orientation": "horizontal",
            "min": 0,
            "description_tooltip": null,
            "_model_module": "@jupyter-widgets/controls",
            "layout": "IPY_MODEL_647f8b8fa1704822ad67c3453203cb3d"
          }
        },
        "9ae21089658f400a835ef42d7ec777e3": {
          "model_module": "@jupyter-widgets/controls",
          "model_name": "HTMLModel",
          "state": {
            "_view_name": "HTMLView",
            "style": "IPY_MODEL_3c7b00d13d7a47a6a90a8dc141a78078",
            "_dom_classes": [],
            "description": "",
            "_model_name": "HTMLModel",
            "placeholder": "​",
            "_view_module": "@jupyter-widgets/controls",
            "_model_module_version": "1.5.0",
            "value": " 9913344/? [04:18&lt;00:00, 38282.03it/s]",
            "_view_count": null,
            "_view_module_version": "1.5.0",
            "description_tooltip": null,
            "_model_module": "@jupyter-widgets/controls",
            "layout": "IPY_MODEL_e2c933b14e7548038dedc3a220778cdf"
          }
        },
        "7cf4e6a8cbd34625985c1f1ce631cd82": {
          "model_module": "@jupyter-widgets/controls",
          "model_name": "ProgressStyleModel",
          "state": {
            "_view_name": "StyleView",
            "_model_name": "ProgressStyleModel",
            "description_width": "initial",
            "_view_module": "@jupyter-widgets/base",
            "_model_module_version": "1.5.0",
            "_view_count": null,
            "_view_module_version": "1.2.0",
            "bar_color": null,
            "_model_module": "@jupyter-widgets/controls"
          }
        },
        "647f8b8fa1704822ad67c3453203cb3d": {
          "model_module": "@jupyter-widgets/base",
          "model_name": "LayoutModel",
          "state": {
            "_view_name": "LayoutView",
            "grid_template_rows": null,
            "right": null,
            "justify_content": null,
            "_view_module": "@jupyter-widgets/base",
            "overflow": null,
            "_model_module_version": "1.2.0",
            "_view_count": null,
            "flex_flow": null,
            "width": null,
            "min_width": null,
            "border": null,
            "align_items": null,
            "bottom": null,
            "_model_module": "@jupyter-widgets/base",
            "top": null,
            "grid_column": null,
            "overflow_y": null,
            "overflow_x": null,
            "grid_auto_flow": null,
            "grid_area": null,
            "grid_template_columns": null,
            "flex": null,
            "_model_name": "LayoutModel",
            "justify_items": null,
            "grid_row": null,
            "max_height": null,
            "align_content": null,
            "visibility": null,
            "align_self": null,
            "height": null,
            "min_height": null,
            "padding": null,
            "grid_auto_rows": null,
            "grid_gap": null,
            "max_width": null,
            "order": null,
            "_view_module_version": "1.2.0",
            "grid_template_areas": null,
            "object_position": null,
            "object_fit": null,
            "grid_auto_columns": null,
            "margin": null,
            "display": null,
            "left": null
          }
        },
        "3c7b00d13d7a47a6a90a8dc141a78078": {
          "model_module": "@jupyter-widgets/controls",
          "model_name": "DescriptionStyleModel",
          "state": {
            "_view_name": "StyleView",
            "_model_name": "DescriptionStyleModel",
            "description_width": "",
            "_view_module": "@jupyter-widgets/base",
            "_model_module_version": "1.5.0",
            "_view_count": null,
            "_view_module_version": "1.2.0",
            "_model_module": "@jupyter-widgets/controls"
          }
        },
        "e2c933b14e7548038dedc3a220778cdf": {
          "model_module": "@jupyter-widgets/base",
          "model_name": "LayoutModel",
          "state": {
            "_view_name": "LayoutView",
            "grid_template_rows": null,
            "right": null,
            "justify_content": null,
            "_view_module": "@jupyter-widgets/base",
            "overflow": null,
            "_model_module_version": "1.2.0",
            "_view_count": null,
            "flex_flow": null,
            "width": null,
            "min_width": null,
            "border": null,
            "align_items": null,
            "bottom": null,
            "_model_module": "@jupyter-widgets/base",
            "top": null,
            "grid_column": null,
            "overflow_y": null,
            "overflow_x": null,
            "grid_auto_flow": null,
            "grid_area": null,
            "grid_template_columns": null,
            "flex": null,
            "_model_name": "LayoutModel",
            "justify_items": null,
            "grid_row": null,
            "max_height": null,
            "align_content": null,
            "visibility": null,
            "align_self": null,
            "height": null,
            "min_height": null,
            "padding": null,
            "grid_auto_rows": null,
            "grid_gap": null,
            "max_width": null,
            "order": null,
            "_view_module_version": "1.2.0",
            "grid_template_areas": null,
            "object_position": null,
            "object_fit": null,
            "grid_auto_columns": null,
            "margin": null,
            "display": null,
            "left": null
          }
        },
        "392f99f6636a4e5cb67b245e1883b282": {
          "model_module": "@jupyter-widgets/controls",
          "model_name": "HBoxModel",
          "state": {
            "_view_name": "HBoxView",
            "_dom_classes": [],
            "_model_name": "HBoxModel",
            "_view_module": "@jupyter-widgets/controls",
            "_model_module_version": "1.5.0",
            "_view_count": null,
            "_view_module_version": "1.5.0",
            "box_style": "",
            "layout": "IPY_MODEL_c6a213fce1614b6db7ec1f7850a1bf6d",
            "_model_module": "@jupyter-widgets/controls",
            "children": [
              "IPY_MODEL_00ad7e2dbe7943e994d0cc1855bc6b02",
              "IPY_MODEL_cf47aa710c294931af39a96fa3f8201c"
            ]
          }
        },
        "c6a213fce1614b6db7ec1f7850a1bf6d": {
          "model_module": "@jupyter-widgets/base",
          "model_name": "LayoutModel",
          "state": {
            "_view_name": "LayoutView",
            "grid_template_rows": null,
            "right": null,
            "justify_content": null,
            "_view_module": "@jupyter-widgets/base",
            "overflow": null,
            "_model_module_version": "1.2.0",
            "_view_count": null,
            "flex_flow": null,
            "width": null,
            "min_width": null,
            "border": null,
            "align_items": null,
            "bottom": null,
            "_model_module": "@jupyter-widgets/base",
            "top": null,
            "grid_column": null,
            "overflow_y": null,
            "overflow_x": null,
            "grid_auto_flow": null,
            "grid_area": null,
            "grid_template_columns": null,
            "flex": null,
            "_model_name": "LayoutModel",
            "justify_items": null,
            "grid_row": null,
            "max_height": null,
            "align_content": null,
            "visibility": null,
            "align_self": null,
            "height": null,
            "min_height": null,
            "padding": null,
            "grid_auto_rows": null,
            "grid_gap": null,
            "max_width": null,
            "order": null,
            "_view_module_version": "1.2.0",
            "grid_template_areas": null,
            "object_position": null,
            "object_fit": null,
            "grid_auto_columns": null,
            "margin": null,
            "display": null,
            "left": null
          }
        },
        "00ad7e2dbe7943e994d0cc1855bc6b02": {
          "model_module": "@jupyter-widgets/controls",
          "model_name": "FloatProgressModel",
          "state": {
            "_view_name": "ProgressView",
            "style": "IPY_MODEL_02a84584ab364aecbb248472501cbebe",
            "_dom_classes": [],
            "description": "",
            "_model_name": "FloatProgressModel",
            "bar_style": "success",
            "max": 28881,
            "_view_module": "@jupyter-widgets/controls",
            "_model_module_version": "1.5.0",
            "value": 28881,
            "_view_count": null,
            "_view_module_version": "1.5.0",
            "orientation": "horizontal",
            "min": 0,
            "description_tooltip": null,
            "_model_module": "@jupyter-widgets/controls",
            "layout": "IPY_MODEL_4eebfc0d72074b5f806e11258af93e61"
          }
        },
        "cf47aa710c294931af39a96fa3f8201c": {
          "model_module": "@jupyter-widgets/controls",
          "model_name": "HTMLModel",
          "state": {
            "_view_name": "HTMLView",
            "style": "IPY_MODEL_8a5f5cae79e44fbbb217a030d51beafb",
            "_dom_classes": [],
            "description": "",
            "_model_name": "HTMLModel",
            "placeholder": "​",
            "_view_module": "@jupyter-widgets/controls",
            "_model_module_version": "1.5.0",
            "value": " 29696/? [00:50&lt;00:00, 584.45it/s]",
            "_view_count": null,
            "_view_module_version": "1.5.0",
            "description_tooltip": null,
            "_model_module": "@jupyter-widgets/controls",
            "layout": "IPY_MODEL_4c8d4138be9f41048e46d4cec0518b89"
          }
        },
        "02a84584ab364aecbb248472501cbebe": {
          "model_module": "@jupyter-widgets/controls",
          "model_name": "ProgressStyleModel",
          "state": {
            "_view_name": "StyleView",
            "_model_name": "ProgressStyleModel",
            "description_width": "initial",
            "_view_module": "@jupyter-widgets/base",
            "_model_module_version": "1.5.0",
            "_view_count": null,
            "_view_module_version": "1.2.0",
            "bar_color": null,
            "_model_module": "@jupyter-widgets/controls"
          }
        },
        "4eebfc0d72074b5f806e11258af93e61": {
          "model_module": "@jupyter-widgets/base",
          "model_name": "LayoutModel",
          "state": {
            "_view_name": "LayoutView",
            "grid_template_rows": null,
            "right": null,
            "justify_content": null,
            "_view_module": "@jupyter-widgets/base",
            "overflow": null,
            "_model_module_version": "1.2.0",
            "_view_count": null,
            "flex_flow": null,
            "width": null,
            "min_width": null,
            "border": null,
            "align_items": null,
            "bottom": null,
            "_model_module": "@jupyter-widgets/base",
            "top": null,
            "grid_column": null,
            "overflow_y": null,
            "overflow_x": null,
            "grid_auto_flow": null,
            "grid_area": null,
            "grid_template_columns": null,
            "flex": null,
            "_model_name": "LayoutModel",
            "justify_items": null,
            "grid_row": null,
            "max_height": null,
            "align_content": null,
            "visibility": null,
            "align_self": null,
            "height": null,
            "min_height": null,
            "padding": null,
            "grid_auto_rows": null,
            "grid_gap": null,
            "max_width": null,
            "order": null,
            "_view_module_version": "1.2.0",
            "grid_template_areas": null,
            "object_position": null,
            "object_fit": null,
            "grid_auto_columns": null,
            "margin": null,
            "display": null,
            "left": null
          }
        },
        "8a5f5cae79e44fbbb217a030d51beafb": {
          "model_module": "@jupyter-widgets/controls",
          "model_name": "DescriptionStyleModel",
          "state": {
            "_view_name": "StyleView",
            "_model_name": "DescriptionStyleModel",
            "description_width": "",
            "_view_module": "@jupyter-widgets/base",
            "_model_module_version": "1.5.0",
            "_view_count": null,
            "_view_module_version": "1.2.0",
            "_model_module": "@jupyter-widgets/controls"
          }
        },
        "4c8d4138be9f41048e46d4cec0518b89": {
          "model_module": "@jupyter-widgets/base",
          "model_name": "LayoutModel",
          "state": {
            "_view_name": "LayoutView",
            "grid_template_rows": null,
            "right": null,
            "justify_content": null,
            "_view_module": "@jupyter-widgets/base",
            "overflow": null,
            "_model_module_version": "1.2.0",
            "_view_count": null,
            "flex_flow": null,
            "width": null,
            "min_width": null,
            "border": null,
            "align_items": null,
            "bottom": null,
            "_model_module": "@jupyter-widgets/base",
            "top": null,
            "grid_column": null,
            "overflow_y": null,
            "overflow_x": null,
            "grid_auto_flow": null,
            "grid_area": null,
            "grid_template_columns": null,
            "flex": null,
            "_model_name": "LayoutModel",
            "justify_items": null,
            "grid_row": null,
            "max_height": null,
            "align_content": null,
            "visibility": null,
            "align_self": null,
            "height": null,
            "min_height": null,
            "padding": null,
            "grid_auto_rows": null,
            "grid_gap": null,
            "max_width": null,
            "order": null,
            "_view_module_version": "1.2.0",
            "grid_template_areas": null,
            "object_position": null,
            "object_fit": null,
            "grid_auto_columns": null,
            "margin": null,
            "display": null,
            "left": null
          }
        },
        "9fa8143c7984457aba7585f1943e0aff": {
          "model_module": "@jupyter-widgets/controls",
          "model_name": "HBoxModel",
          "state": {
            "_view_name": "HBoxView",
            "_dom_classes": [],
            "_model_name": "HBoxModel",
            "_view_module": "@jupyter-widgets/controls",
            "_model_module_version": "1.5.0",
            "_view_count": null,
            "_view_module_version": "1.5.0",
            "box_style": "",
            "layout": "IPY_MODEL_9e8fbf627a5a4ef2b649e545c597f702",
            "_model_module": "@jupyter-widgets/controls",
            "children": [
              "IPY_MODEL_f6c851514b5f41c3a2c20e4c2a70b99d",
              "IPY_MODEL_c75e742bc69446288bb10804cf0479b8"
            ]
          }
        },
        "9e8fbf627a5a4ef2b649e545c597f702": {
          "model_module": "@jupyter-widgets/base",
          "model_name": "LayoutModel",
          "state": {
            "_view_name": "LayoutView",
            "grid_template_rows": null,
            "right": null,
            "justify_content": null,
            "_view_module": "@jupyter-widgets/base",
            "overflow": null,
            "_model_module_version": "1.2.0",
            "_view_count": null,
            "flex_flow": null,
            "width": null,
            "min_width": null,
            "border": null,
            "align_items": null,
            "bottom": null,
            "_model_module": "@jupyter-widgets/base",
            "top": null,
            "grid_column": null,
            "overflow_y": null,
            "overflow_x": null,
            "grid_auto_flow": null,
            "grid_area": null,
            "grid_template_columns": null,
            "flex": null,
            "_model_name": "LayoutModel",
            "justify_items": null,
            "grid_row": null,
            "max_height": null,
            "align_content": null,
            "visibility": null,
            "align_self": null,
            "height": null,
            "min_height": null,
            "padding": null,
            "grid_auto_rows": null,
            "grid_gap": null,
            "max_width": null,
            "order": null,
            "_view_module_version": "1.2.0",
            "grid_template_areas": null,
            "object_position": null,
            "object_fit": null,
            "grid_auto_columns": null,
            "margin": null,
            "display": null,
            "left": null
          }
        },
        "f6c851514b5f41c3a2c20e4c2a70b99d": {
          "model_module": "@jupyter-widgets/controls",
          "model_name": "FloatProgressModel",
          "state": {
            "_view_name": "ProgressView",
            "style": "IPY_MODEL_81c6c0bc7f4d4b8f8e1da4a339c164ff",
            "_dom_classes": [],
            "description": "",
            "_model_name": "FloatProgressModel",
            "bar_style": "success",
            "max": 1648877,
            "_view_module": "@jupyter-widgets/controls",
            "_model_module_version": "1.5.0",
            "value": 1648877,
            "_view_count": null,
            "_view_module_version": "1.5.0",
            "orientation": "horizontal",
            "min": 0,
            "description_tooltip": null,
            "_model_module": "@jupyter-widgets/controls",
            "layout": "IPY_MODEL_b83dc2242d25468eb8079cabf01f1072"
          }
        },
        "c75e742bc69446288bb10804cf0479b8": {
          "model_module": "@jupyter-widgets/controls",
          "model_name": "HTMLModel",
          "state": {
            "_view_name": "HTMLView",
            "style": "IPY_MODEL_ba4d69992e504a08a229ae0ffacd3c65",
            "_dom_classes": [],
            "description": "",
            "_model_name": "HTMLModel",
            "placeholder": "​",
            "_view_module": "@jupyter-widgets/controls",
            "_model_module_version": "1.5.0",
            "value": " 1649664/? [00:50&lt;00:00, 32795.20it/s]",
            "_view_count": null,
            "_view_module_version": "1.5.0",
            "description_tooltip": null,
            "_model_module": "@jupyter-widgets/controls",
            "layout": "IPY_MODEL_778742b343494d53af1cd9a6b3fec197"
          }
        },
        "81c6c0bc7f4d4b8f8e1da4a339c164ff": {
          "model_module": "@jupyter-widgets/controls",
          "model_name": "ProgressStyleModel",
          "state": {
            "_view_name": "StyleView",
            "_model_name": "ProgressStyleModel",
            "description_width": "initial",
            "_view_module": "@jupyter-widgets/base",
            "_model_module_version": "1.5.0",
            "_view_count": null,
            "_view_module_version": "1.2.0",
            "bar_color": null,
            "_model_module": "@jupyter-widgets/controls"
          }
        },
        "b83dc2242d25468eb8079cabf01f1072": {
          "model_module": "@jupyter-widgets/base",
          "model_name": "LayoutModel",
          "state": {
            "_view_name": "LayoutView",
            "grid_template_rows": null,
            "right": null,
            "justify_content": null,
            "_view_module": "@jupyter-widgets/base",
            "overflow": null,
            "_model_module_version": "1.2.0",
            "_view_count": null,
            "flex_flow": null,
            "width": null,
            "min_width": null,
            "border": null,
            "align_items": null,
            "bottom": null,
            "_model_module": "@jupyter-widgets/base",
            "top": null,
            "grid_column": null,
            "overflow_y": null,
            "overflow_x": null,
            "grid_auto_flow": null,
            "grid_area": null,
            "grid_template_columns": null,
            "flex": null,
            "_model_name": "LayoutModel",
            "justify_items": null,
            "grid_row": null,
            "max_height": null,
            "align_content": null,
            "visibility": null,
            "align_self": null,
            "height": null,
            "min_height": null,
            "padding": null,
            "grid_auto_rows": null,
            "grid_gap": null,
            "max_width": null,
            "order": null,
            "_view_module_version": "1.2.0",
            "grid_template_areas": null,
            "object_position": null,
            "object_fit": null,
            "grid_auto_columns": null,
            "margin": null,
            "display": null,
            "left": null
          }
        },
        "ba4d69992e504a08a229ae0ffacd3c65": {
          "model_module": "@jupyter-widgets/controls",
          "model_name": "DescriptionStyleModel",
          "state": {
            "_view_name": "StyleView",
            "_model_name": "DescriptionStyleModel",
            "description_width": "",
            "_view_module": "@jupyter-widgets/base",
            "_model_module_version": "1.5.0",
            "_view_count": null,
            "_view_module_version": "1.2.0",
            "_model_module": "@jupyter-widgets/controls"
          }
        },
        "778742b343494d53af1cd9a6b3fec197": {
          "model_module": "@jupyter-widgets/base",
          "model_name": "LayoutModel",
          "state": {
            "_view_name": "LayoutView",
            "grid_template_rows": null,
            "right": null,
            "justify_content": null,
            "_view_module": "@jupyter-widgets/base",
            "overflow": null,
            "_model_module_version": "1.2.0",
            "_view_count": null,
            "flex_flow": null,
            "width": null,
            "min_width": null,
            "border": null,
            "align_items": null,
            "bottom": null,
            "_model_module": "@jupyter-widgets/base",
            "top": null,
            "grid_column": null,
            "overflow_y": null,
            "overflow_x": null,
            "grid_auto_flow": null,
            "grid_area": null,
            "grid_template_columns": null,
            "flex": null,
            "_model_name": "LayoutModel",
            "justify_items": null,
            "grid_row": null,
            "max_height": null,
            "align_content": null,
            "visibility": null,
            "align_self": null,
            "height": null,
            "min_height": null,
            "padding": null,
            "grid_auto_rows": null,
            "grid_gap": null,
            "max_width": null,
            "order": null,
            "_view_module_version": "1.2.0",
            "grid_template_areas": null,
            "object_position": null,
            "object_fit": null,
            "grid_auto_columns": null,
            "margin": null,
            "display": null,
            "left": null
          }
        },
        "cc670213259f4027bddbba0b7b1c0052": {
          "model_module": "@jupyter-widgets/controls",
          "model_name": "HBoxModel",
          "state": {
            "_view_name": "HBoxView",
            "_dom_classes": [],
            "_model_name": "HBoxModel",
            "_view_module": "@jupyter-widgets/controls",
            "_model_module_version": "1.5.0",
            "_view_count": null,
            "_view_module_version": "1.5.0",
            "box_style": "",
            "layout": "IPY_MODEL_65d094ce77b9496592f60ff13b5203e7",
            "_model_module": "@jupyter-widgets/controls",
            "children": [
              "IPY_MODEL_6716ce56e8fc41059bcd3198cb319b04",
              "IPY_MODEL_3fa4a9517939408996d6726d8df8205a"
            ]
          }
        },
        "65d094ce77b9496592f60ff13b5203e7": {
          "model_module": "@jupyter-widgets/base",
          "model_name": "LayoutModel",
          "state": {
            "_view_name": "LayoutView",
            "grid_template_rows": null,
            "right": null,
            "justify_content": null,
            "_view_module": "@jupyter-widgets/base",
            "overflow": null,
            "_model_module_version": "1.2.0",
            "_view_count": null,
            "flex_flow": null,
            "width": null,
            "min_width": null,
            "border": null,
            "align_items": null,
            "bottom": null,
            "_model_module": "@jupyter-widgets/base",
            "top": null,
            "grid_column": null,
            "overflow_y": null,
            "overflow_x": null,
            "grid_auto_flow": null,
            "grid_area": null,
            "grid_template_columns": null,
            "flex": null,
            "_model_name": "LayoutModel",
            "justify_items": null,
            "grid_row": null,
            "max_height": null,
            "align_content": null,
            "visibility": null,
            "align_self": null,
            "height": null,
            "min_height": null,
            "padding": null,
            "grid_auto_rows": null,
            "grid_gap": null,
            "max_width": null,
            "order": null,
            "_view_module_version": "1.2.0",
            "grid_template_areas": null,
            "object_position": null,
            "object_fit": null,
            "grid_auto_columns": null,
            "margin": null,
            "display": null,
            "left": null
          }
        },
        "6716ce56e8fc41059bcd3198cb319b04": {
          "model_module": "@jupyter-widgets/controls",
          "model_name": "FloatProgressModel",
          "state": {
            "_view_name": "ProgressView",
            "style": "IPY_MODEL_58aab6affc144376a3d3ae2faaf0c81b",
            "_dom_classes": [],
            "description": "",
            "_model_name": "FloatProgressModel",
            "bar_style": "success",
            "max": 4542,
            "_view_module": "@jupyter-widgets/controls",
            "_model_module_version": "1.5.0",
            "value": 4542,
            "_view_count": null,
            "_view_module_version": "1.5.0",
            "orientation": "horizontal",
            "min": 0,
            "description_tooltip": null,
            "_model_module": "@jupyter-widgets/controls",
            "layout": "IPY_MODEL_89eacd1de7e44538ad7183b8cbb5841d"
          }
        },
        "3fa4a9517939408996d6726d8df8205a": {
          "model_module": "@jupyter-widgets/controls",
          "model_name": "HTMLModel",
          "state": {
            "_view_name": "HTMLView",
            "style": "IPY_MODEL_9ed6b781b35a4695b12dc853b7e13b13",
            "_dom_classes": [],
            "description": "",
            "_model_name": "HTMLModel",
            "placeholder": "​",
            "_view_module": "@jupyter-widgets/controls",
            "_model_module_version": "1.5.0",
            "value": " 5120/? [00:00&lt;00:00, 127780.77it/s]",
            "_view_count": null,
            "_view_module_version": "1.5.0",
            "description_tooltip": null,
            "_model_module": "@jupyter-widgets/controls",
            "layout": "IPY_MODEL_f2eec957c2a741019d978da86e22b7c1"
          }
        },
        "58aab6affc144376a3d3ae2faaf0c81b": {
          "model_module": "@jupyter-widgets/controls",
          "model_name": "ProgressStyleModel",
          "state": {
            "_view_name": "StyleView",
            "_model_name": "ProgressStyleModel",
            "description_width": "initial",
            "_view_module": "@jupyter-widgets/base",
            "_model_module_version": "1.5.0",
            "_view_count": null,
            "_view_module_version": "1.2.0",
            "bar_color": null,
            "_model_module": "@jupyter-widgets/controls"
          }
        },
        "89eacd1de7e44538ad7183b8cbb5841d": {
          "model_module": "@jupyter-widgets/base",
          "model_name": "LayoutModel",
          "state": {
            "_view_name": "LayoutView",
            "grid_template_rows": null,
            "right": null,
            "justify_content": null,
            "_view_module": "@jupyter-widgets/base",
            "overflow": null,
            "_model_module_version": "1.2.0",
            "_view_count": null,
            "flex_flow": null,
            "width": null,
            "min_width": null,
            "border": null,
            "align_items": null,
            "bottom": null,
            "_model_module": "@jupyter-widgets/base",
            "top": null,
            "grid_column": null,
            "overflow_y": null,
            "overflow_x": null,
            "grid_auto_flow": null,
            "grid_area": null,
            "grid_template_columns": null,
            "flex": null,
            "_model_name": "LayoutModel",
            "justify_items": null,
            "grid_row": null,
            "max_height": null,
            "align_content": null,
            "visibility": null,
            "align_self": null,
            "height": null,
            "min_height": null,
            "padding": null,
            "grid_auto_rows": null,
            "grid_gap": null,
            "max_width": null,
            "order": null,
            "_view_module_version": "1.2.0",
            "grid_template_areas": null,
            "object_position": null,
            "object_fit": null,
            "grid_auto_columns": null,
            "margin": null,
            "display": null,
            "left": null
          }
        },
        "9ed6b781b35a4695b12dc853b7e13b13": {
          "model_module": "@jupyter-widgets/controls",
          "model_name": "DescriptionStyleModel",
          "state": {
            "_view_name": "StyleView",
            "_model_name": "DescriptionStyleModel",
            "description_width": "",
            "_view_module": "@jupyter-widgets/base",
            "_model_module_version": "1.5.0",
            "_view_count": null,
            "_view_module_version": "1.2.0",
            "_model_module": "@jupyter-widgets/controls"
          }
        },
        "f2eec957c2a741019d978da86e22b7c1": {
          "model_module": "@jupyter-widgets/base",
          "model_name": "LayoutModel",
          "state": {
            "_view_name": "LayoutView",
            "grid_template_rows": null,
            "right": null,
            "justify_content": null,
            "_view_module": "@jupyter-widgets/base",
            "overflow": null,
            "_model_module_version": "1.2.0",
            "_view_count": null,
            "flex_flow": null,
            "width": null,
            "min_width": null,
            "border": null,
            "align_items": null,
            "bottom": null,
            "_model_module": "@jupyter-widgets/base",
            "top": null,
            "grid_column": null,
            "overflow_y": null,
            "overflow_x": null,
            "grid_auto_flow": null,
            "grid_area": null,
            "grid_template_columns": null,
            "flex": null,
            "_model_name": "LayoutModel",
            "justify_items": null,
            "grid_row": null,
            "max_height": null,
            "align_content": null,
            "visibility": null,
            "align_self": null,
            "height": null,
            "min_height": null,
            "padding": null,
            "grid_auto_rows": null,
            "grid_gap": null,
            "max_width": null,
            "order": null,
            "_view_module_version": "1.2.0",
            "grid_template_areas": null,
            "object_position": null,
            "object_fit": null,
            "grid_auto_columns": null,
            "margin": null,
            "display": null,
            "left": null
          }
        }
      }
    }
  },
  "cells": [
    {
      "cell_type": "markdown",
      "metadata": {
        "id": "view-in-github",
        "colab_type": "text"
      },
      "source": [
        "<a href=\"https://colab.research.google.com/github/aviz123/PyTorch-Assignment/blob/main/Session_3.ipynb\" target=\"_parent\"><img src=\"https://colab.research.google.com/assets/colab-badge.svg\" alt=\"Open In Colab\"/></a>"
      ]
    },
    {
      "cell_type": "markdown",
      "metadata": {
        "id": "56Rq0s1mUriT"
      },
      "source": [
        "# Import Libraries and Modules"
      ]
    },
    {
      "cell_type": "code",
      "metadata": {
        "colab": {
          "base_uri": "https://localhost:8080/"
        },
        "id": "MP4bX4PyUS7I",
        "outputId": "5eef34c0-262d-47da-d0ed-7f88945f460e"
      },
      "source": [
        "import torch\n",
        "import torchvision # provide access to datasets, models, transforms, utils, etc\n",
        "import torchvision.transforms as transforms\n",
        "from torch.utils.data import Dataset, TensorDataset, DataLoader\n",
        "import numpy as np\n",
        "import matplotlib.pyplot as plt\n",
        "import torch.nn as nn\n",
        "import torch.nn.functional as F\n",
        "import torch.optim as optim\n",
        "from torchsummary import summary\n",
        "from random import randint\n",
        "\n",
        "torch.set_printoptions(linewidth=120)\n",
        "\n",
        "# Setting up the device\n",
        "device = torch.device(\"cuda:0\" if torch.cuda.is_available() else \"cpu\")\n",
        "\n",
        "# Assuming that we are on a CUDA machine, this should print a CUDA device:\n",
        "print(\"The device available is: \", device)"
      ],
      "execution_count": 1,
      "outputs": [
        {
          "output_type": "stream",
          "text": [
            "The device available is:  cpu\n"
          ],
          "name": "stdout"
        }
      ]
    },
    {
      "cell_type": "markdown",
      "metadata": {
        "id": "4_A0tAkRVJdD"
      },
      "source": [
        "# Create Combined Dataset"
      ]
    },
    {
      "cell_type": "code",
      "metadata": {
        "colab": {
          "base_uri": "https://localhost:8080/",
          "height": 573,
          "referenced_widgets": [
            "a1a78ca982e14995bd2766eb7016764b",
            "893ef69fe24345dbb26f6865025a9a2a",
            "9e3c94a267de4f3a9535059c78034557",
            "9ae21089658f400a835ef42d7ec777e3",
            "7cf4e6a8cbd34625985c1f1ce631cd82",
            "647f8b8fa1704822ad67c3453203cb3d",
            "3c7b00d13d7a47a6a90a8dc141a78078",
            "e2c933b14e7548038dedc3a220778cdf",
            "392f99f6636a4e5cb67b245e1883b282",
            "c6a213fce1614b6db7ec1f7850a1bf6d",
            "00ad7e2dbe7943e994d0cc1855bc6b02",
            "cf47aa710c294931af39a96fa3f8201c",
            "02a84584ab364aecbb248472501cbebe",
            "4eebfc0d72074b5f806e11258af93e61",
            "8a5f5cae79e44fbbb217a030d51beafb",
            "4c8d4138be9f41048e46d4cec0518b89",
            "9fa8143c7984457aba7585f1943e0aff",
            "9e8fbf627a5a4ef2b649e545c597f702",
            "f6c851514b5f41c3a2c20e4c2a70b99d",
            "c75e742bc69446288bb10804cf0479b8",
            "81c6c0bc7f4d4b8f8e1da4a339c164ff",
            "b83dc2242d25468eb8079cabf01f1072",
            "ba4d69992e504a08a229ae0ffacd3c65",
            "778742b343494d53af1cd9a6b3fec197",
            "cc670213259f4027bddbba0b7b1c0052",
            "65d094ce77b9496592f60ff13b5203e7",
            "6716ce56e8fc41059bcd3198cb319b04",
            "3fa4a9517939408996d6726d8df8205a",
            "58aab6affc144376a3d3ae2faaf0c81b",
            "89eacd1de7e44538ad7183b8cbb5841d",
            "9ed6b781b35a4695b12dc853b7e13b13",
            "f2eec957c2a741019d978da86e22b7c1"
          ]
        },
        "id": "QwfeksbMVJu9",
        "outputId": "8f49c9de-0ca4-46a6-bff2-de2f4b76419f"
      },
      "source": [
        "# Create a class to combine MNIST dataset and random numbers between 0 and 9\n",
        "class Combined_Dataset():\n",
        "\n",
        "  # We pass the train variable to get train or test data, and batch_size\n",
        "  def __init__(self, train, batch_size):\n",
        "\n",
        "      self.batch_size = batch_size\n",
        "      # Load the MNIST data into the data_loader object\n",
        "      self.data_loader = torch.utils.data.DataLoader(\n",
        "          torchvision.datasets.MNIST('/files/', train=train, download=True,\n",
        "                                transform=torchvision.transforms.Compose([\n",
        "                                  torchvision.transforms.ToTensor(),\n",
        "                                  torchvision.transforms.Normalize(\n",
        "                                    (0.1307,), (0.3081,))\n",
        "                                ])),\n",
        "          batch_size=self.batch_size, shuffle=True)\n",
        "\n",
        "      # Number of samples in the dataaset\n",
        "      self.dataset = self.data_loader.dataset            \n",
        "\n",
        "  # getitem function creats batches of our dataset on the fly by calling next(iter())\n",
        "  def __getitem__(self, index):\n",
        "      # Extract one batch of the MNIST data_loader\n",
        "      image, label = next(iter(self.data_loader))\n",
        "\n",
        "      # Generate randoms numbers between 0 and 9 of size=batch_size. The datatype is float as this is the input required for the network\n",
        "      random_numbers = torch.tensor([randint(0,9) for _ in range(self.batch_size)], dtype=torch.float32)\n",
        "\n",
        "      # Combine inputs and outputs as a list after transfering the tensors to the GPU\n",
        "      x = [image.to(device), random_numbers.to(device)]\n",
        "      # y labels for addition of number is reshaped to [32,1] as MSE requires it in this format\n",
        "      y = [label.to(device), (label+random_numbers).reshape([32,1]).to(device)]\n",
        "\n",
        "      return x, y\n",
        "\n",
        "  def __len__(self):\n",
        "      return len(self.data_loader)\n",
        "\n",
        "# Set the batch size\n",
        "batch_size = 32\n",
        "\n",
        "# Create the train and test dataset\n",
        "train_data = Combined_Dataset(train=True, batch_size=batch_size)\n",
        "test_data = Combined_Dataset(train=False, batch_size=batch_size)"
      ],
      "execution_count": 2,
      "outputs": [
        {
          "output_type": "stream",
          "text": [
            "Downloading http://yann.lecun.com/exdb/mnist/train-images-idx3-ubyte.gz\n",
            "Downloading http://yann.lecun.com/exdb/mnist/train-images-idx3-ubyte.gz to /files/MNIST/raw/train-images-idx3-ubyte.gz\n"
          ],
          "name": "stdout"
        },
        {
          "output_type": "display_data",
          "data": {
            "application/vnd.jupyter.widget-view+json": {
              "model_id": "a1a78ca982e14995bd2766eb7016764b",
              "version_minor": 0,
              "version_major": 2
            },
            "text/plain": [
              "HBox(children=(FloatProgress(value=0.0, max=9912422.0), HTML(value='')))"
            ]
          },
          "metadata": {
            "tags": []
          }
        },
        {
          "output_type": "stream",
          "text": [
            "\n",
            "Extracting /files/MNIST/raw/train-images-idx3-ubyte.gz to /files/MNIST/raw\n",
            "\n",
            "Downloading http://yann.lecun.com/exdb/mnist/train-labels-idx1-ubyte.gz\n",
            "Downloading http://yann.lecun.com/exdb/mnist/train-labels-idx1-ubyte.gz to /files/MNIST/raw/train-labels-idx1-ubyte.gz\n"
          ],
          "name": "stdout"
        },
        {
          "output_type": "display_data",
          "data": {
            "application/vnd.jupyter.widget-view+json": {
              "model_id": "392f99f6636a4e5cb67b245e1883b282",
              "version_minor": 0,
              "version_major": 2
            },
            "text/plain": [
              "HBox(children=(FloatProgress(value=0.0, max=28881.0), HTML(value='')))"
            ]
          },
          "metadata": {
            "tags": []
          }
        },
        {
          "output_type": "stream",
          "text": [
            "\n",
            "Extracting /files/MNIST/raw/train-labels-idx1-ubyte.gz to /files/MNIST/raw\n",
            "\n",
            "Downloading http://yann.lecun.com/exdb/mnist/t10k-images-idx3-ubyte.gz\n",
            "Downloading http://yann.lecun.com/exdb/mnist/t10k-images-idx3-ubyte.gz to /files/MNIST/raw/t10k-images-idx3-ubyte.gz\n"
          ],
          "name": "stdout"
        },
        {
          "output_type": "display_data",
          "data": {
            "application/vnd.jupyter.widget-view+json": {
              "model_id": "9fa8143c7984457aba7585f1943e0aff",
              "version_minor": 0,
              "version_major": 2
            },
            "text/plain": [
              "HBox(children=(FloatProgress(value=0.0, max=1648877.0), HTML(value='')))"
            ]
          },
          "metadata": {
            "tags": []
          }
        },
        {
          "output_type": "stream",
          "text": [
            "\n",
            "Extracting /files/MNIST/raw/t10k-images-idx3-ubyte.gz to /files/MNIST/raw\n",
            "\n",
            "Downloading http://yann.lecun.com/exdb/mnist/t10k-labels-idx1-ubyte.gz\n",
            "Downloading http://yann.lecun.com/exdb/mnist/t10k-labels-idx1-ubyte.gz to /files/MNIST/raw/t10k-labels-idx1-ubyte.gz\n"
          ],
          "name": "stdout"
        },
        {
          "output_type": "display_data",
          "data": {
            "application/vnd.jupyter.widget-view+json": {
              "model_id": "cc670213259f4027bddbba0b7b1c0052",
              "version_minor": 0,
              "version_major": 2
            },
            "text/plain": [
              "HBox(children=(FloatProgress(value=0.0, max=4542.0), HTML(value='')))"
            ]
          },
          "metadata": {
            "tags": []
          }
        },
        {
          "output_type": "stream",
          "text": [
            "\n",
            "Extracting /files/MNIST/raw/t10k-labels-idx1-ubyte.gz to /files/MNIST/raw\n",
            "\n",
            "Processing...\n",
            "Done!\n"
          ],
          "name": "stdout"
        },
        {
          "output_type": "stream",
          "text": [
            "/usr/local/lib/python3.7/dist-packages/torchvision/datasets/mnist.py:502: UserWarning: The given NumPy array is not writeable, and PyTorch does not support non-writeable tensors. This means you can write to the underlying (supposedly non-writeable) NumPy array using the tensor. You may want to copy the array to protect its data or make it writeable before converting it to a tensor. This type of warning will be suppressed for the rest of this program. (Triggered internally at  /pytorch/torch/csrc/utils/tensor_numpy.cpp:143.)\n",
            "  return torch.from_numpy(parsed.astype(m[2], copy=False)).view(*s)\n"
          ],
          "name": "stderr"
        }
      ]
    },
    {
      "cell_type": "code",
      "metadata": {
        "colab": {
          "base_uri": "https://localhost:8080/"
        },
        "id": "5jePiQUgW5ZW",
        "outputId": "ad016317-0138-456d-9c95-cb56736f8a29"
      },
      "source": [
        "print(f\"Number of train batches: {len(train_data)}\")\n",
        "print(f\"Number of test batches: {len(test_data)}\")\n",
        "\n",
        "print(f\"Number of train samples: {len(train_data.dataset)}\")\n",
        "print(f\"Number of test samples: {len(test_data.dataset)}\")\n",
        "\n",
        "x, y = next(iter(train_data))\n",
        "\n",
        "print(f\"Shape of input data is: [{x[0].shape}, {x[1].shape}]\")\n",
        "print(f\"Shape of output data is: [{y[0].shape}, {y[1].shape}]\")"
      ],
      "execution_count": 3,
      "outputs": [
        {
          "output_type": "stream",
          "text": [
            "Number of train batches: 1875\n",
            "Number of test batches: 313\n",
            "Number of train samples: 60000\n",
            "Number of test samples: 10000\n",
            "Shape of input data is: [torch.Size([32, 1, 28, 28]), torch.Size([32])]\n",
            "Shape of output data is: [torch.Size([32]), torch.Size([32, 1])]\n"
          ],
          "name": "stdout"
        }
      ]
    },
    {
      "cell_type": "markdown",
      "metadata": {
        "id": "spGrcVmnW56k"
      },
      "source": [
        "# Building the Network"
      ]
    },
    {
      "cell_type": "code",
      "metadata": {
        "id": "qgGGT6EzXHL8"
      },
      "source": [
        "# Build the classifier and addition network\n",
        "class Network(nn.Module):\n",
        "    def __init__(self):\n",
        "        super().__init__()\n",
        "\n",
        "        # Classifier Network\n",
        "        self.input1 = nn.Conv2d(in_channels=1, out_channels=16, kernel_size=3) # output size = 26\n",
        "        self.conv1 = nn.Conv2d(in_channels=16, out_channels=32, kernel_size=3) # 24\n",
        "        self.conv2 = nn.Conv2d(in_channels=32, out_channels=64, kernel_size=3) # 22\n",
        "        self.pool = nn.MaxPool2d(2, 2) # 11\n",
        "\n",
        "        # 1x1 convolution\n",
        "        self.oneconv1 = nn.Conv2d(in_channels=64, out_channels=16, kernel_size=1) # 11\n",
        "        \n",
        "        self.conv3 = nn.Conv2d(in_channels=16, out_channels=32, kernel_size=3) # 9\n",
        "        self.conv4 = nn.Conv2d(in_channels=32, out_channels=64, kernel_size=3) # 7\n",
        "        self.conv5 = nn.Conv2d(in_channels=64, out_channels=64, kernel_size=3) # 5\n",
        "        self.conv6 = nn.Conv2d(in_channels=64, out_channels=10, kernel_size=5) # 1\n",
        "\n",
        "        # Addition network using fully connected layers\n",
        "        self.input2 = nn.Linear(in_features=2, out_features=5)\n",
        "        self.layer1 = nn.Linear(in_features=5, out_features=5)\n",
        "        self.out2 = nn.Linear(in_features=5, out_features=1)\n",
        "\n",
        "    def forward(self, data1, data2):\n",
        "        # Classifier Network forward prop\n",
        "        # first block\n",
        "        x = F.relu(self.input1(data1))\n",
        "        x = F.relu(self.conv1(x))\n",
        "        x = self.pool(F.relu(self.conv2(x)))\n",
        "        x = F.relu(self.oneconv1(x))\n",
        "        \n",
        "        # second block\n",
        "        x = F.relu(self.conv3(x))\n",
        "        x = F.relu(self.conv4(x))\n",
        "        x = F.relu(self.conv5(x))\n",
        "\n",
        "        # third block\n",
        "        x = self.conv6(x)\n",
        "        output1 = torch.flatten(x, start_dim=1) # flatten all dimensions except batch      \n",
        "\n",
        "        # Addition Network\n",
        "        # Collect the output of the classifier network and select the index with maximum value\n",
        "        x = torch.argmax(output1, dim=1)\n",
        "        # Use torch.stack to create pairs of network outputs and random numbers\n",
        "        x  = torch.stack((x.float(), data2), dim=1)\n",
        "        \n",
        "        # Pass the data through the addition network. No activation function required as addition of two numbers is a linear function\n",
        "        x = self.input2(x)\n",
        "        x = self.layer1(x)\n",
        "        output2 = self.out2(x)\n",
        "\n",
        "        # Return outputs from both the classifier and addition network\n",
        "        return output1, output2"
      ],
      "execution_count": 4,
      "outputs": []
    },
    {
      "cell_type": "code",
      "metadata": {
        "colab": {
          "base_uri": "https://localhost:8080/"
        },
        "id": "JXaRimg_XJld",
        "outputId": "d6f96f3a-546f-4107-ffb2-a9f1589dfbbc"
      },
      "source": [
        "# Create an object of the class Network and transfer it to the GPU\n",
        "model = Network().to(device)\n",
        "print(\" The model layers are: \")\n",
        "print(model)\n",
        "\n",
        "print(\"\\nShape of parameters in each layer is: \")\n",
        "for name, param in model.named_parameters():\n",
        "    print(name, '\\t\\t', param.shape)\n",
        "\n",
        "# Selecting the loss function and optimizer  for the model\n",
        "CE_loss = nn.CrossEntropyLoss()\n",
        "MSE_loss = nn.MSELoss()\n",
        "optimizer = optim.SGD(model.parameters(), lr=0.001, momentum=0.9)"
      ],
      "execution_count": 5,
      "outputs": [
        {
          "output_type": "stream",
          "text": [
            " The model layers are: \n",
            "Network(\n",
            "  (input1): Conv2d(1, 16, kernel_size=(3, 3), stride=(1, 1))\n",
            "  (conv1): Conv2d(16, 32, kernel_size=(3, 3), stride=(1, 1))\n",
            "  (conv2): Conv2d(32, 64, kernel_size=(3, 3), stride=(1, 1))\n",
            "  (pool): MaxPool2d(kernel_size=2, stride=2, padding=0, dilation=1, ceil_mode=False)\n",
            "  (oneconv1): Conv2d(64, 16, kernel_size=(1, 1), stride=(1, 1))\n",
            "  (conv3): Conv2d(16, 32, kernel_size=(3, 3), stride=(1, 1))\n",
            "  (conv4): Conv2d(32, 64, kernel_size=(3, 3), stride=(1, 1))\n",
            "  (conv5): Conv2d(64, 64, kernel_size=(3, 3), stride=(1, 1))\n",
            "  (conv6): Conv2d(64, 10, kernel_size=(5, 5), stride=(1, 1))\n",
            "  (input2): Linear(in_features=2, out_features=5, bias=True)\n",
            "  (layer1): Linear(in_features=5, out_features=5, bias=True)\n",
            "  (out2): Linear(in_features=5, out_features=1, bias=True)\n",
            ")\n",
            "\n",
            "Shape of parameters in each layer is: \n",
            "input1.weight \t\t torch.Size([16, 1, 3, 3])\n",
            "input1.bias \t\t torch.Size([16])\n",
            "conv1.weight \t\t torch.Size([32, 16, 3, 3])\n",
            "conv1.bias \t\t torch.Size([32])\n",
            "conv2.weight \t\t torch.Size([64, 32, 3, 3])\n",
            "conv2.bias \t\t torch.Size([64])\n",
            "oneconv1.weight \t\t torch.Size([16, 64, 1, 1])\n",
            "oneconv1.bias \t\t torch.Size([16])\n",
            "conv3.weight \t\t torch.Size([32, 16, 3, 3])\n",
            "conv3.bias \t\t torch.Size([32])\n",
            "conv4.weight \t\t torch.Size([64, 32, 3, 3])\n",
            "conv4.bias \t\t torch.Size([64])\n",
            "conv5.weight \t\t torch.Size([64, 64, 3, 3])\n",
            "conv5.bias \t\t torch.Size([64])\n",
            "conv6.weight \t\t torch.Size([10, 64, 5, 5])\n",
            "conv6.bias \t\t torch.Size([10])\n",
            "input2.weight \t\t torch.Size([5, 2])\n",
            "input2.bias \t\t torch.Size([5])\n",
            "layer1.weight \t\t torch.Size([5, 5])\n",
            "layer1.bias \t\t torch.Size([5])\n",
            "out2.weight \t\t torch.Size([1, 5])\n",
            "out2.bias \t\t torch.Size([1])\n"
          ],
          "name": "stdout"
        }
      ]
    },
    {
      "cell_type": "markdown",
      "metadata": {
        "id": "YgTPgko0XRFs"
      },
      "source": [
        "# Training the Model"
      ]
    },
    {
      "cell_type": "code",
      "metadata": {
        "colab": {
          "base_uri": "https://localhost:8080/"
        },
        "id": "ayQD2kVNXRVM",
        "outputId": "dcfcca38-4127-4f5c-8ce5-6490111b6958"
      },
      "source": [
        "for epoch in range(10):  # Loop over the dataset multiple times\n",
        "\n",
        "    total_loss = 0.0\n",
        "    total_correct_1, total_correct_2 = 0, 0\n",
        "    # Loop over the entire length of train data\n",
        "    for i in range(len(train_data)):\n",
        "        # Get the inputs and outputs\n",
        "        # Input data x is a list of [images, random numbers], output data y is a list of [classes, sum of numbers]\n",
        "        x, y = next(iter(train_data))\n",
        "\n",
        "        # Zero the parameter gradients\n",
        "        optimizer.zero_grad()\n",
        "\n",
        "        # Forward + Backward + Optimize\n",
        "        output1, output2 = model(x[0], x[1])\n",
        "        # Use the CE loss for classification and MSE loss for addition \n",
        "        loss = CE_loss(output1, y[0]) + MSE_loss(output2, y[1])\n",
        "        loss.backward()\n",
        "        optimizer.step()\n",
        "\n",
        "        # Calculate statistics\n",
        "        total_loss += loss.item()\n",
        "        total_correct_1 += output1.argmax(dim=1).eq(y[0]).sum().item()\n",
        "        total_correct_2 += (torch.round(output2) == torch.round(y[1])).sum().item()\n",
        "        \n",
        "    # Print statistics        \n",
        "    print(f\"Epoch: {epoch+1}, loss: {total_loss}, Classification Acc: {100 * (total_correct_1/(len(train_data.dataset)))}, Addition Acc: {100 * (total_correct_2/(len(train_data.dataset)))}\")\n",
        "    \n",
        "print('Finished Training')"
      ],
      "execution_count": 6,
      "outputs": [
        {
          "output_type": "stream",
          "text": [
            "Epoch: 1, loss: 15730.5960277915, Classification Acc: 39.335, Addition Acc: 24.92\n",
            "Epoch: 2, loss: 1750.585687068291, Classification Acc: 95.72166666666668, Addition Acc: 88.07166666666667\n",
            "Epoch: 3, loss: 960.6274697096087, Classification Acc: 97.65, Addition Acc: 95.20166666666667\n",
            "Epoch: 4, loss: 815.7211702149361, Classification Acc: 98.13499999999999, Addition Acc: 96.22500000000001\n",
            "Epoch: 5, loss: 646.2290848720586, Classification Acc: 98.52666666666666, Addition Acc: 97.89333333333333\n",
            "Epoch: 6, loss: 484.78688704257365, Classification Acc: 98.84166666666667, Addition Acc: 98.215\n",
            "Epoch: 7, loss: 385.7182908653631, Classification Acc: 99.08166666666666, Addition Acc: 98.7\n",
            "Epoch: 8, loss: 363.83727842749795, Classification Acc: 99.14500000000001, Addition Acc: 98.895\n",
            "Epoch: 9, loss: 276.718324864225, Classification Acc: 99.33666666666666, Addition Acc: 99.28833333333333\n",
            "Epoch: 10, loss: 273.10551575793943, Classification Acc: 99.31833333333333, Addition Acc: 99.27833333333334\n",
            "Finished Training\n"
          ],
          "name": "stdout"
        }
      ]
    },
    {
      "cell_type": "markdown",
      "metadata": {
        "id": "yTLy-uZ8degw"
      },
      "source": [
        "# Evaluating the Model"
      ]
    },
    {
      "cell_type": "code",
      "metadata": {
        "colab": {
          "base_uri": "https://localhost:8080/"
        },
        "id": "OC4RIuJPdeqv",
        "outputId": "b3d51ea2-a6a7-4cb3-cc27-18ab270f113e"
      },
      "source": [
        "correct_1, correct_2 = 0, 0\n",
        "total_1, total_2 = 0, 0\n",
        "\n",
        "# Since we're not training, we don't need to calculate the gradients for our outputs\n",
        "with torch.no_grad():\n",
        "    # Loop over the entire length of test data\n",
        "    for i in range(len(test_data)):\n",
        "        # Get the inputs and outputs\n",
        "        # Input data x is a list of [images, random numbers], output data y is a list of [classes, sum of numbers]\n",
        "        x, y = next(iter(test_data))\n",
        "\n",
        "        # Calculate outputs by running data through the network \n",
        "        output1, output2 = model(x[0], x[1])\n",
        "\n",
        "        # The class with the highest energy is what we choose as prediction\n",
        "        _, predicted = torch.max(output1.data, 1)\n",
        "        total_1 += y[0].size(0)\n",
        "        # Calculate number of correction predictions for classifier\n",
        "        correct_1 += (predicted == y[0]).sum().item()\n",
        "\n",
        "        total_2 += y[1].to(device).size(0)\n",
        "        # Calculate number of correction predictions for addition\n",
        "        correct_2 += (torch.round(output2) == torch.round(y[1])).sum().item()\n",
        "\n",
        "print('Accuracy of the network on the 10,000 test images: ', (100 * correct_1 / total_1))\n",
        "print('Accuracy of the network on the 10,000 test images: ', (100 * correct_2 / total_2))"
      ],
      "execution_count": 8,
      "outputs": [
        {
          "output_type": "stream",
          "text": [
            "Accuracy of the network on the 10,000 test images:  98.44249201277955\n",
            "Accuracy of the network on the 10,000 test images:  98.44249201277955\n"
          ],
          "name": "stdout"
        }
      ]
    },
    {
      "cell_type": "markdown",
      "metadata": {
        "id": "Hm3z7lXgdrZo"
      },
      "source": [
        "# Sample Prediction on a batch"
      ]
    },
    {
      "cell_type": "code",
      "metadata": {
        "colab": {
          "base_uri": "https://localhost:8080/"
        },
        "id": "PFoqPbsNdroo",
        "outputId": "d09a9c3b-779a-4174-eed2-379754618f22"
      },
      "source": [
        "print(\"Print Prediction for a sample batch\\n\")\n",
        "x, y = next(iter(test_data))\n",
        "\n",
        "# Calculate outputs by running data through the network \n",
        "output1, output2 = model(x[0], x[1])\n",
        "\n",
        "# The class with the highest energy is what we choose as prediction\n",
        "_, predicted = torch.max(output1.data, 1)\n",
        "\n",
        "print(\"Predicted vs. Actual for classifer\\n\")\n",
        "print(torch.stack((predicted, y[0]), dim=1)[:10])"
      ],
      "execution_count": 10,
      "outputs": [
        {
          "output_type": "stream",
          "text": [
            "Print Prediction for a sample batch\n",
            "\n",
            "Predicted vs. Actual for classifer\n",
            "\n",
            "tensor([[7, 7],\n",
            "        [2, 2],\n",
            "        [4, 4],\n",
            "        [9, 9],\n",
            "        [1, 1],\n",
            "        [8, 8],\n",
            "        [2, 2],\n",
            "        [5, 5],\n",
            "        [3, 3],\n",
            "        [3, 3]])\n"
          ],
          "name": "stdout"
        }
      ]
    },
    {
      "cell_type": "code",
      "metadata": {
        "colab": {
          "base_uri": "https://localhost:8080/"
        },
        "id": "SkB4TyIGd285",
        "outputId": "ae70c5d6-e7b0-4203-dc58-5f7b7d53fa51"
      },
      "source": [
        "print(\"Predicted vs. Predicted Rounded off vs. Actual for addition\\n\")\n",
        "\n",
        "print(torch.stack((output2, torch.round(output2), y[1]), dim=1)[:5])"
      ],
      "execution_count": 11,
      "outputs": [
        {
          "output_type": "stream",
          "text": [
            "Predicted vs. Predicted Rounded off vs. Actual for addition\n",
            "\n",
            "tensor([[[14.0593],\n",
            "         [14.0000],\n",
            "         [14.0000]],\n",
            "\n",
            "        [[ 6.0757],\n",
            "         [ 6.0000],\n",
            "         [ 6.0000]],\n",
            "\n",
            "        [[13.1248],\n",
            "         [13.0000],\n",
            "         [13.0000]],\n",
            "\n",
            "        [[ 9.9472],\n",
            "         [10.0000],\n",
            "         [10.0000]],\n",
            "\n",
            "        [[ 4.0731],\n",
            "         [ 4.0000],\n",
            "         [ 4.0000]]], grad_fn=<SliceBackward>)\n"
          ],
          "name": "stdout"
        }
      ]
    }
  ]
}